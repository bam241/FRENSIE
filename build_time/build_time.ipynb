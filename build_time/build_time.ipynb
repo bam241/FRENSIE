{
 "cells": [
  {
   "cell_type": "code",
   "execution_count": 3,
   "metadata": {},
   "outputs": [],
   "source": [
    "import pandas as pd"
   ]
  },
  {
   "cell_type": "code",
   "execution_count": null,
   "metadata": {},
   "outputs": [],
   "source": [
    "data = pd.read_csv(\"build_item\")"
   ]
  },
  {
   "cell_type": "code",
   "execution_count": 8,
   "metadata": {},
   "outputs": [
    {
     "output_type": "execute_result",
     "data": {
      "text/plain": "                                                   File     Time Unit\n0     packages/PyFrensie/src/PyFrensie_NumpyImporter...      134   ms\n1            packages/utility/core/src/Utility_Axis.cpp     2839   ms\n2     packages/utility/core/src/Utility_ComparisonTr...     3136   ms\n3     packages/utility/core/src/Utility_DynamicOutpu...     3138   ms\n4     packages/utility/core/src/Utility_DynamicOutpu...      638   ms\n...                                                 ...      ...  ...\n1131  bld/packages/PyFrensie/src/MonteCarlo.Electron...    31109   ms\n1132  bld/packages/PyFrensie/src/MonteCarlo.Geometry...    13501   ms\n1133  bld/packages/PyFrensie/src/MonteCarlo.ActiveRe...    51634   ms\n1134  packages/monte_carlo/collision/neutron/test/ts...  1398982   ms\n1135  packages/monte_carlo/collision/photon/test/tst...  1288032   ms\n\n[1136 rows x 3 columns]",
      "text/html": "<div>\n<style scoped>\n    .dataframe tbody tr th:only-of-type {\n        vertical-align: middle;\n    }\n\n    .dataframe tbody tr th {\n        vertical-align: top;\n    }\n\n    .dataframe thead th {\n        text-align: right;\n    }\n</style>\n<table border=\"1\" class=\"dataframe\">\n  <thead>\n    <tr style=\"text-align: right;\">\n      <th></th>\n      <th>File</th>\n      <th>Time</th>\n      <th>Unit</th>\n    </tr>\n  </thead>\n  <tbody>\n    <tr>\n      <th>0</th>\n      <td>packages/PyFrensie/src/PyFrensie_NumpyImporter...</td>\n      <td>134</td>\n      <td>ms</td>\n    </tr>\n    <tr>\n      <th>1</th>\n      <td>packages/utility/core/src/Utility_Axis.cpp</td>\n      <td>2839</td>\n      <td>ms</td>\n    </tr>\n    <tr>\n      <th>2</th>\n      <td>packages/utility/core/src/Utility_ComparisonTr...</td>\n      <td>3136</td>\n      <td>ms</td>\n    </tr>\n    <tr>\n      <th>3</th>\n      <td>packages/utility/core/src/Utility_DynamicOutpu...</td>\n      <td>3138</td>\n      <td>ms</td>\n    </tr>\n    <tr>\n      <th>4</th>\n      <td>packages/utility/core/src/Utility_DynamicOutpu...</td>\n      <td>638</td>\n      <td>ms</td>\n    </tr>\n    <tr>\n      <th>...</th>\n      <td>...</td>\n      <td>...</td>\n      <td>...</td>\n    </tr>\n    <tr>\n      <th>1131</th>\n      <td>bld/packages/PyFrensie/src/MonteCarlo.Electron...</td>\n      <td>31109</td>\n      <td>ms</td>\n    </tr>\n    <tr>\n      <th>1132</th>\n      <td>bld/packages/PyFrensie/src/MonteCarlo.Geometry...</td>\n      <td>13501</td>\n      <td>ms</td>\n    </tr>\n    <tr>\n      <th>1133</th>\n      <td>bld/packages/PyFrensie/src/MonteCarlo.ActiveRe...</td>\n      <td>51634</td>\n      <td>ms</td>\n    </tr>\n    <tr>\n      <th>1134</th>\n      <td>packages/monte_carlo/collision/neutron/test/ts...</td>\n      <td>1398982</td>\n      <td>ms</td>\n    </tr>\n    <tr>\n      <th>1135</th>\n      <td>packages/monte_carlo/collision/photon/test/tst...</td>\n      <td>1288032</td>\n      <td>ms</td>\n    </tr>\n  </tbody>\n</table>\n<p>1136 rows × 3 columns</p>\n</div>"
     },
     "metadata": {},
     "execution_count": 8
    }
   ],
   "source": [
    "data"
   ]
  },
  {
   "cell_type": "code",
   "execution_count": 9,
   "metadata": {},
   "outputs": [
    {
     "output_type": "execute_result",
     "data": {
      "text/plain": "0.39243484976033455"
     },
     "metadata": {},
     "execution_count": 9
    }
   ],
   "source": [
    "data['Time'].head(300).sum()/data['Time'].sum()"
   ]
  },
  {
   "cell_type": "code",
   "execution_count": 10,
   "metadata": {},
   "outputs": [
    {
     "output_type": "execute_result",
     "data": {
      "text/plain": "0.14654644788219967"
     },
     "metadata": {},
     "execution_count": 10
    }
   ],
   "source": [
    "data['Time'].head(600).tail(300).sum()/data['Time'].sum()"
   ]
  },
  {
   "cell_type": "code",
   "execution_count": 15,
   "metadata": {},
   "outputs": [
    {
     "output_type": "execute_result",
     "data": {
      "text/plain": "0.15510496782015232"
     },
     "metadata": {},
     "execution_count": 15
    }
   ],
   "source": [
    "data['Time'].tail(600).head(300).sum()/data['Time'].sum()"
   ]
  },
  {
   "cell_type": "code",
   "execution_count": 16,
   "metadata": {},
   "outputs": [
    {
     "output_type": "execute_result",
     "data": {
      "text/plain": "0.33215537491837166"
     },
     "metadata": {},
     "execution_count": 16
    }
   ],
   "source": [
    "data['Time'].tail(300).sum()/data['Time'].sum()"
   ]
  },
  {
   "cell_type": "code",
   "execution_count": 17,
   "metadata": {},
   "outputs": [],
   "source": [
    "data.sort_values(by=\"Time\", inplace=True, ascending=False)"
   ]
  },
  {
   "cell_type": "code",
   "execution_count": 18,
   "metadata": {
    "tags": []
   },
   "outputs": [],
   "source": [
    "data = data.reset_index()\n"
   ]
  },
  {
   "cell_type": "code",
   "execution_count": 19,
   "metadata": {
    "tags": []
   },
   "outputs": [
    {
     "output_type": "stream",
     "name": "stdout",
     "text": "packages/monte_carlo/collision/neutron/test/tstNuclearReactionType.cpp 1398982\npackages/monte_carlo/collision/photon/test/tstPhotonuclearReactionType.cpp 1288032\npackages/utility/mpi/test/tstCommunicatorGathervHelper.cpp 645327\npackages/utility/mpi/test/tstCommunicatorScatterHelper.cpp 558337\npackages/utility/core/test/tstComparisonTraits.cpp 547295\npackages/utility/mpi/test/tstCommunicatorGatherHelper.cpp 544245\npackages/utility/mpi/test/tstCommunicatorReduceHelper.cpp 386672\npackages/utility/mpi/test/tstCommunicatorScattervHelper.cpp 373553\npackages/monte_carlo/active_region/core/test/tstPhaseSpaceDimensionDistribution.cpp 330248\npackages/monte_carlo/active_region/core/test/tstImportanceSampledDependentPhaseSpaceDimensionDistribution.cpp 233104\npackages/monte_carlo/active_region/core/test/tstDependentPhaseSpaceDimensionDistribution.cpp 229801\npackages/utility/mpi/test/tstCommunicatorAllReduceHelper.cpp 187852\npackages/utility/core/test/tstView.cpp 173374\npackages/utility/core/test/tstQuantityTraits.cpp 151849\npackages/utility/mpi/test/tstCommunicatorAllGatherHelper.cpp 148132\npackages/data_gen/electron_photon/test/tstDefaultComptonProfileGenerator.cpp 136502\npackages/utility/core/test/tstTuple.cpp 131066\npackages/utility/mpi/test/tstCommunicatorBroadcastHelper.cpp 129746\npackages/utility/interpolation/test/tstLogLogCosLogTwoDInterpolationPolicy.cpp 125339\npackages/utility/distribution/test/tstPowerDistribution.cpp 105800\npackages/utility/mpi/test/tstCommunicatorAllToAllHelper.cpp 104908\npackages/utility/mpi/test/tstCommunicatorIsendIrecvHelper.cpp 97061\npackages/utility/mpi/test/tstCommunicatorScanHelper.cpp 96849\npackages/utility/core/test/tstArrayView.cpp 95284\npackages/utility/distribution/test/tstTabularDistribution.cpp 92294\npackages/monte_carlo/event/estimator/test/tstStandardEntityEstimator.cpp 90902\npackages/utility/distribution/src/Utility_InterpolatedFullyTabularBasicBivariateDistribution.cpp 90093\npackages/utility/mpi/test/tstCommunicatorSendRecvHelper.cpp 88375\npackages/monte_carlo/collision/photon/test/tstPhotoatomicReactionType.cpp 85980\npackages/utility/core/test/tstList.cpp 85752\npackages/utility/distribution/test/tstTabularCDFDistribution.cpp 84107\npackages/utility/distribution/test/tstHistogramDistribution.cpp 77270\npackages/data/core/test/tstNuclideProperties.cpp 72340\npackages/utility/interpolation/test/tstLinLogLogTwoDInterpolationPolicy.cpp 67934\npackages/utility/interpolation/test/tstLogLogLogTwoDInterpolationPolicy.cpp 67879\npackages/utility/core/test/tstComparisonPolicy.cpp 67839\npackages/utility/interpolation/test/tstLogLogLinTwoDInterpolationPolicy.cpp 67671\npackages/utility/interpolation/test/tstLinLogLinTwoDInterpolationPolicy.cpp 67061\npackages/utility/distribution/test/tstEquiprobableBinDistribution.cpp 65024\npackages/utility/interpolation/test/tstLogLinLogTwoDInterpolationPolicy.cpp 64074\npackages/utility/interpolation/test/tstLinLinLogTwoDInterpolationPolicy.cpp 63821\npackages/monte_carlo/event/estimator/test/tstHexMeshTrackLengthFluxEstimator.cpp 63205\npackages/utility/distribution/test/tstLogLogLogDirectInterpolatedFullyTabularBasicBivariateDistribution.cpp 63170\npackages/utility/interpolation/test/tstLogLinLinTwoDInterpolationPolicy.cpp 62765\npackages/utility/distribution/test/tstLinLinLinUnitBaseInterpolatedFullyTabularBasicBivariateDistribution.cpp 62525\npackages/utility/distribution/test/tstLinLinLinDirectInterpolatedFullyTabularBasicBivariateDistribution.cpp 62275\npackages/utility/interpolation/test/tstLinLinLinTwoDInterpolationPolicy.cpp 61891\npackages/monte_carlo/collision/electron/test/tstLinLinLinCoupledElasticBasicBivariateDistribution.cpp 57869\npackages/utility/distribution/test/tstDiscreteDistribution.cpp 57775\npackages/monte_carlo/collision/photon/test/tstStandardComptonProfileSubshellConverter.cpp 57762\npackages/utility/core/test/tstMap.cpp 57644\npackages/utility/distribution/test/tstLinLinLinUnitBaseCorrelatedInterpolatedFullyTabularBasicBivariateDistribution.cpp 56641\npackages/monte_carlo/collision/electron/test/tstLogLogLogCoupledElasticBasicBivariateDistribution.cpp 55630\npackages/utility/core/test/tstPropertyTree.cpp 55341\npackages/monte_carlo/event/dispatcher/test/tstEventHandler.cpp 54677\npackages/utility/core/test/tstVector.cpp 52286\npackages/monte_carlo/collision/electron/src/MonteCarlo_ElasticBasicBivariateDistribution.cpp 51692\nbld/packages/PyFrensie/src/MonteCarlo.ActiveRegionPYTHON_wrap.cpp 51634\npackages/monte_carlo/collision/electron/test/tstCoupledElasticDistribution.cpp 51556\npackages/utility/distribution/test/tstLinLinLinCorrelatedInterpolatedFullyTabularBasicBivariateDistribution.cpp 51086\npackages/utility/core/test/tstDeque.cpp 50625\npackages/monte_carlo/collision/electron/test/tstLogLogLogCutoffElasticBasicBivariateDistribution.cpp 48050\npackages/utility/core/test/tstSet.cpp 47752\npackages/monte_carlo/active_region/core/src/MonteCarlo_ImportanceSampledDependentPhaseSpaceDimensionDistribution.cpp 47593\npackages/utility/distribution/src/Utility_InterpolatedTabularBasicBivariateDistributionImplBase.cpp 46775\npackages/utility/distribution/test/tstWattDistribution.cpp 46333\npackages/utility/distribution/test/tstCosineTabularCDFDistribution.cpp 43883\npackages/utility/distribution/test/tstMaxwellFissionDistribution.cpp 42940\npackages/utility/distribution/test/tstEvaporationDistribution.cpp 42660\npackages/utility/distribution/test/tstNormalDistribution.cpp 42496\npackages/utility/mpi/test/tstCommunicatorIprobeHelper.cpp 41871\npackages/monte_carlo/collision/electron/test/tstPositronatomicReactionType.cpp 41636\npackages/utility/distribution/test/tstExponentialDistribution.cpp 41249\npackages/utility/mpi/test/tstCommunicatorProbeHelper.cpp 40782\npackages/utility/distribution/test/tstDeltaDistribution.cpp 39399\npackages/utility/distribution/test/tstUniformDistribution.cpp 39022\npackages/monte_carlo/collision/electron/test/tstAdjointElectroatomicReactionType.cpp 37419\npackages/monte_carlo/collision/electron/test/tstElectroatomicReactionType.cpp 37400\npackages/monte_carlo/active_region/source/test/tstStandardParticleSourceComponent.cpp 37373\npackages/utility/distribution/test/tstLinLinLinUnitBaseInterpolatedPartiallyTabularBasicBivariateDistribution.cpp 37175\npackages/utility/distribution/test/tstLinLinLinDirectInterpolatedPartiallyTabularBasicBivariateDistribution.cpp 36883\npackages/utility/core/test/tstArray.cpp 36340\npackages/utility/distribution/test/tstHistogramFullyTabularBasicBivariateDistribution.cpp 36069\npackages/utility/core/test/tstIteratorTypeTraits.cpp 35284\npackages/monte_carlo/collision/photon/test/tstAdjointPhotoatomicReactionType.cpp 34949\npackages/utility/distribution/test/tstPolynomialDistribution.cpp 34826\npackages/utility/core/test/tstSearchAlgorithmscpp 32316\npackages/monte_carlo/active_region/core/src/MonteCarlo_DependentPhaseSpaceDimensionDistribution.cpp 32313\nbld/packages/PyFrensie/src/MonteCarlo.EventPYTHON_wrap.cpp 32273\nbld/packages/PyFrensie/src/MonteCarlo.ElectronPYTHON_wrap.cpp 31109\npackages/utility/core/test/tstFRENSIEUnitTestHarnessDefaultInit.cpp 30768\npackages/monte_carlo/collision/kernel/test/tstFilledGeometryModel.cpp 30452\npackages/monte_carlo/active_region/source/test/tstStandardAdjointParticleSourceComponent.cpp 30340\npackages/data_gen/electron_photon/test/tstACEAndENDLElectronPhotonRelaxationDataGenerator.cpp 29506\npackages/monte_carlo/event/estimator/test/tstSurfaceFluxEstimator.cpp 29102\npackages/data_gen/electron_photon/src/DataGen_ENDLElectronPhotonRelaxationDataGenerator.cpp 28639\npackages/monte_carlo/event/estimator/test/tstCellCollisionFluxEstimator.cpp 28485\npackages/monte_carlo/event/estimator/test/tstCellTrackLengthFluxEstimator.cpp 28230\npackages/monte_carlo/event/estimator/test/tstSurfaceCurrentEstimator.cpp 28109\npackages/monte_carlo/collision/electron/src/MonteCarlo_PositronatomNativeFactory.cpp 27607\n"
    }
   ],
   "source": [
    "for i in range(100):\n",
    "    print(data[\"File\"][i], data[\"Time\"][i])"
   ]
  },
  {
   "cell_type": "code",
   "execution_count": 20,
   "metadata": {},
   "outputs": [
    {
     "output_type": "execute_result",
     "data": {
      "text/plain": "5.5174713888888895"
     },
     "metadata": {},
     "execution_count": 20
    }
   ],
   "source": [
    "data['Time'].sum()/1000/60./60."
   ]
  },
  {
   "cell_type": "code",
   "execution_count": 38,
   "metadata": {},
   "outputs": [],
   "source": [
    "data_test = data[data[\"File\"].str.contains(\"tst\")]"
   ]
  },
  {
   "cell_type": "code",
   "execution_count": 41,
   "metadata": {},
   "outputs": [
    {
     "output_type": "execute_result",
     "data": {
      "text/plain": "0.7960790412395533"
     },
     "metadata": {},
     "execution_count": 41
    }
   ],
   "source": [
    "data_test[\"Time\"].sum()/data['Time'].sum()"
   ]
  },
  {
   "cell_type": "code",
   "execution_count": 21,
   "metadata": {},
   "outputs": [
    {
     "output_type": "execute_result",
     "data": {
      "text/plain": "9.121583333333332"
     },
     "metadata": {},
     "execution_count": 21
    }
   ],
   "source": [
    "547295/1000/60."
   ]
  },
  {
   "cell_type": "code",
   "execution_count": 22,
   "metadata": {},
   "outputs": [
    {
     "output_type": "execute_result",
     "data": {
      "text/plain": "4.482233333333334"
     },
     "metadata": {},
     "execution_count": 22
    }
   ],
   "source": [
    "268934/1000/60"
   ]
  },
  {
   "cell_type": "code",
   "execution_count": 23,
   "metadata": {},
   "outputs": [
    {
     "output_type": "execute_result",
     "data": {
      "text/plain": "4.11735"
     },
     "metadata": {},
     "execution_count": 23
    }
   ],
   "source": [
    "247041/1000/60."
   ]
  },
  {
   "cell_type": "code",
   "execution_count": null,
   "metadata": {},
   "outputs": [],
   "source": []
  },
  {
   "cell_type": "code",
   "execution_count": 2,
   "metadata": {},
   "outputs": [
    {
     "output_type": "execute_result",
     "data": {
      "text/plain": "5.549143660531698"
     },
     "metadata": {},
     "execution_count": 2
    }
   ],
   "source": [
    "(173666/31296)"
   ]
  },
  {
   "cell_type": "code",
   "execution_count": 43,
   "metadata": {},
   "outputs": [
    {
     "output_type": "execute_result",
     "data": {
      "text/plain": "2.7001833333333334"
     },
     "metadata": {},
     "execution_count": 43
    }
   ],
   "source": [
    "162011/1000/60."
   ]
  },
  {
   "cell_type": "code",
   "execution_count": 3,
   "metadata": {},
   "outputs": [
    {
     "output_type": "execute_result",
     "data": {
      "text/plain": "5.1125967784996"
     },
     "metadata": {},
     "execution_count": 3
    }
   ],
   "source": [
    "229801/44948"
   ]
  },
  {
   "cell_type": "code",
   "execution_count": null,
   "metadata": {},
   "outputs": [],
   "source": []
  }
 ],
 "metadata": {
  "kernelspec": {
   "name": "python36964bit630dd4fcbb9645d6bc3fe6dc1658d870",
   "display_name": "Python 3.6.9 64-bit"
  }
 },
 "nbformat": 4,
 "nbformat_minor": 2
}