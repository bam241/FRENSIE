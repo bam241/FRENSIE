{
 "cells": [
  {
   "cell_type": "code",
   "execution_count": 12,
   "metadata": {},
   "outputs": [],
   "source": [
    "import pandas as pd"
   ]
  },
  {
   "cell_type": "code",
   "execution_count": 13,
   "metadata": {},
   "outputs": [],
   "source": [
    "data = pd.read_csv(\"build_item\")"
   ]
  },
  {
   "cell_type": "code",
   "execution_count": 14,
   "metadata": {},
   "outputs": [
    {
     "data": {
      "text/html": [
       "<div>\n",
       "<style scoped>\n",
       "    .dataframe tbody tr th:only-of-type {\n",
       "        vertical-align: middle;\n",
       "    }\n",
       "\n",
       "    .dataframe tbody tr th {\n",
       "        vertical-align: top;\n",
       "    }\n",
       "\n",
       "    .dataframe thead th {\n",
       "        text-align: right;\n",
       "    }\n",
       "</style>\n",
       "<table border=\"1\" class=\"dataframe\">\n",
       "  <thead>\n",
       "    <tr style=\"text-align: right;\">\n",
       "      <th></th>\n",
       "      <th>File</th>\n",
       "      <th>Time</th>\n",
       "      <th>Unit</th>\n",
       "    </tr>\n",
       "  </thead>\n",
       "  <tbody>\n",
       "    <tr>\n",
       "      <th>0</th>\n",
       "      <td>FRENSIE/packages/utility/core/src/Utility_3DCa...</td>\n",
       "      <td>2881</td>\n",
       "      <td>ms</td>\n",
       "    </tr>\n",
       "    <tr>\n",
       "      <th>1</th>\n",
       "      <td>FRENSIE/packages/utility/core/src/Utility_Axis...</td>\n",
       "      <td>2594</td>\n",
       "      <td>ms</td>\n",
       "    </tr>\n",
       "    <tr>\n",
       "      <th>2</th>\n",
       "      <td>FRENSIE/packages/utility/core/src/Utility_Comp...</td>\n",
       "      <td>2699</td>\n",
       "      <td>ms</td>\n",
       "    </tr>\n",
       "    <tr>\n",
       "      <th>3</th>\n",
       "      <td>FRENSIE/packages/utility/core/src/Utility_Data...</td>\n",
       "      <td>3063</td>\n",
       "      <td>ms</td>\n",
       "    </tr>\n",
       "    <tr>\n",
       "      <th>4</th>\n",
       "      <td>FRENSIE/packages/utility/core/src/Utility_Data...</td>\n",
       "      <td>3276</td>\n",
       "      <td>ms</td>\n",
       "    </tr>\n",
       "    <tr>\n",
       "      <th>...</th>\n",
       "      <td>...</td>\n",
       "      <td>...</td>\n",
       "      <td>...</td>\n",
       "    </tr>\n",
       "    <tr>\n",
       "      <th>523</th>\n",
       "      <td>FRENSIE/packages/monte_carlo/event/weight_wind...</td>\n",
       "      <td>4443</td>\n",
       "      <td>ms</td>\n",
       "    </tr>\n",
       "    <tr>\n",
       "      <th>524</th>\n",
       "      <td>FRENSIE/packages/monte_carlo/event/weight_cuto...</td>\n",
       "      <td>4345</td>\n",
       "      <td>ms</td>\n",
       "    </tr>\n",
       "    <tr>\n",
       "      <th>525</th>\n",
       "      <td>FRENSIE/packages/monte_carlo/event/weight_cuto...</td>\n",
       "      <td>3632</td>\n",
       "      <td>ms</td>\n",
       "    </tr>\n",
       "    <tr>\n",
       "      <th>526</th>\n",
       "      <td>FRENSIE/packages/monte_carlo/manager/src/Monte...</td>\n",
       "      <td>9386</td>\n",
       "      <td>ms</td>\n",
       "    </tr>\n",
       "    <tr>\n",
       "      <th>527</th>\n",
       "      <td>FRENSIE/packages/monte_carlo/manager/src/Monte...</td>\n",
       "      <td>15159</td>\n",
       "      <td>ms</td>\n",
       "    </tr>\n",
       "  </tbody>\n",
       "</table>\n",
       "<p>528 rows × 3 columns</p>\n",
       "</div>"
      ],
      "text/plain": [
       "                                                  File   Time Unit\n",
       "0    FRENSIE/packages/utility/core/src/Utility_3DCa...   2881   ms\n",
       "1    FRENSIE/packages/utility/core/src/Utility_Axis...   2594   ms\n",
       "2    FRENSIE/packages/utility/core/src/Utility_Comp...   2699   ms\n",
       "3    FRENSIE/packages/utility/core/src/Utility_Data...   3063   ms\n",
       "4    FRENSIE/packages/utility/core/src/Utility_Data...   3276   ms\n",
       "..                                                 ...    ...  ...\n",
       "523  FRENSIE/packages/monte_carlo/event/weight_wind...   4443   ms\n",
       "524  FRENSIE/packages/monte_carlo/event/weight_cuto...   4345   ms\n",
       "525  FRENSIE/packages/monte_carlo/event/weight_cuto...   3632   ms\n",
       "526  FRENSIE/packages/monte_carlo/manager/src/Monte...   9386   ms\n",
       "527  FRENSIE/packages/monte_carlo/manager/src/Monte...  15159   ms\n",
       "\n",
       "[528 rows x 3 columns]"
      ]
     },
     "execution_count": 14,
     "metadata": {},
     "output_type": "execute_result"
    }
   ],
   "source": [
    "data"
   ]
  },
  {
   "cell_type": "code",
   "execution_count": 15,
   "metadata": {},
   "outputs": [
    {
     "data": {
      "text/plain": [
       "0.4978973980645512"
      ]
     },
     "execution_count": 15,
     "metadata": {},
     "output_type": "execute_result"
    }
   ],
   "source": [
    "data['Time'].head(300).sum()/data['Time'].sum()"
   ]
  },
  {
   "cell_type": "code",
   "execution_count": 16,
   "metadata": {},
   "outputs": [
    {
     "data": {
      "text/plain": [
       "0.6406160808696686"
      ]
     },
     "execution_count": 16,
     "metadata": {},
     "output_type": "execute_result"
    }
   ],
   "source": [
    "data['Time'].head(600).tail(300).sum()/data['Time'].sum()"
   ]
  },
  {
   "cell_type": "code",
   "execution_count": 17,
   "metadata": {},
   "outputs": [
    {
     "data": {
      "text/plain": [
       "0.4978973980645512"
      ]
     },
     "execution_count": 17,
     "metadata": {},
     "output_type": "execute_result"
    }
   ],
   "source": [
    "data['Time'].tail(600).head(300).sum()/data['Time'].sum()"
   ]
  },
  {
   "cell_type": "code",
   "execution_count": 18,
   "metadata": {},
   "outputs": [
    {
     "data": {
      "text/plain": [
       "0.6406160808696686"
      ]
     },
     "execution_count": 18,
     "metadata": {},
     "output_type": "execute_result"
    }
   ],
   "source": [
    "data['Time'].tail(300).sum()/data['Time'].sum()"
   ]
  },
  {
   "cell_type": "code",
   "execution_count": 19,
   "metadata": {},
   "outputs": [],
   "source": [
    "data.sort_values(by=\"Time\", inplace=True, ascending=False)"
   ]
  },
  {
   "cell_type": "code",
   "execution_count": 20,
   "metadata": {
    "tags": []
   },
   "outputs": [],
   "source": [
    "data = data.reset_index()\n"
   ]
  },
  {
   "cell_type": "code",
   "execution_count": 32,
   "metadata": {
    "tags": []
   },
   "outputs": [
    {
     "name": "stdout",
     "output_type": "stream",
     "text": [
      "FRENSIE/packages/utility/distribution/src/Utility_InterpolatedFullyTabularBasicBivariateDistribution.cpp 0.7124666666666666\n",
      "FRENSIE/packages/monte_carlo/active_region/core/src/MonteCarlo_ImportanceSampledDependentPhaseSpaceDimensionDistribution.cpp 0.49428333333333335\n",
      "FRENSIE/packages/monte_carlo/collision/electron/src/MonteCarlo_ElasticBasicBivariateDistribution.cpp 0.46968333333333334\n",
      "FRENSIE/packages/monte_carlo/active_region/core/src/MonteCarlo_DependentPhaseSpaceDimensionDistribution.cpp 0.33881666666666665\n",
      "FRENSIE/packages/utility/distribution/src/Utility_InterpolatedTabularBasicBivariateDistributionImplBase.cpp 0.3219333333333333\n",
      "FRENSIE/packages/data/core/src/Data_NuclideProperties.cpp 0.31971666666666665\n",
      "FRENSIE/packages/data/core/src/Data_ScatteringCenterPropertiesDatabaseImpl.cpp 0.27955\n",
      "FRENSIE/packages/utility/distribution/src/Utility_InterpolatedPartiallyTabularBasicBivariateDistribution.cpp 0.2674166666666667\n",
      "FRENSIE/packages/monte_carlo/manager/src/MonteCarlo_ParticleSimulationManagerFactory.cpp 0.25265\n",
      "FRENSIE/packages/monte_carlo/event/dispatcher/src/MonteCarlo_EventHandler.cpp 0.21993333333333334\n",
      "FRENSIE/packages/data/database/src/Data_ScatteringCenterPropertiesDatabase.cpp 0.19046666666666667\n",
      "FRENSIE/packages/monte_carlo/collision/electron/src/MonteCarlo_PositronatomNativeFactory.cpp 0.1884333333333333\n",
      "FRENSIE/packages/monte_carlo/collision/photon/src/MonteCarlo_IncoherentAdjointPhotonScatteringDistributionNativeFactory.cpp 0.18826666666666667\n",
      "FRENSIE/packages/monte_carlo/collision/kernel/src/MonteCarlo_FilledGeometryModel.cpp 0.18695\n",
      "FRENSIE/packages/monte_carlo/collision/electron/src/MonteCarlo_ElectroatomNativeFactory.cpp 0.18686666666666665\n",
      "FRENSIE/packages/monte_carlo/active_region/source/src/MonteCarlo_StandardAdjointParticleSourceComponent.cpp 0.17238333333333333\n",
      "FRENSIE/packages/monte_carlo/collision/photon/src/MonteCarlo_DopplerBroadenedPhotonEnergyDistributionNativeFactory.cpp 0.16983333333333334\n",
      "FRENSIE/packages/monte_carlo/active_region/response/src/MonteCarlo_MaterialParticleResponseFunction.cpp 0.1694\n",
      "FRENSIE/packages/monte_carlo/active_region/response/src/MonteCarlo_MaterialComponentParticleResponseFunction.cpp 0.16795\n",
      "FRENSIE/packages/data/core/src/Data_AtomProperties.cpp 0.15685\n",
      "FRENSIE/packages/monte_carlo/manager/src/MonteCarlo_ParticleSimulationManager.cpp 0.1564333333333333\n",
      "FRENSIE/packages/monte_carlo/active_region/response/src/MonteCarlo_PhotonMaterialComponentParticleResponseFunction.cpp 0.15075\n",
      "FRENSIE/packages/monte_carlo/active_region/response/src/MonteCarlo_PhotonMaterialParticleResponseFunction.cpp 0.15035\n",
      "FRENSIE/packages/monte_carlo/event/forced_collisions/src/MonteCarlo_StandardCollisionForcer.cpp 0.14581666666666668\n",
      "FRENSIE/packages/monte_carlo/collision/photon/src/MonteCarlo_DopplerBroadenedPhotonEnergyDistributionACEFactory.cpp 0.14068333333333335\n",
      "FRENSIE/packages/utility/mpi/src/Utility_Communicator.cpp 0.13958333333333334\n",
      "FRENSIE/packages/monte_carlo/collision/electron/src/MonteCarlo_PositronatomFactory.cpp 0.1372\n",
      "FRENSIE/packages/monte_carlo/collision/electron/src/MonteCarlo_ElectroatomFactory.cpp 0.13528333333333334\n",
      "FRENSIE/packages/data/native/src/Data_AdjointElectronPhotonRelaxationDataContainer.cpp 0.13526666666666667\n",
      "FRENSIE/packages/monte_carlo/collision/electron/src/MonteCarlo_AdjointElectroatomNativeFactory.cpp 0.13470000000000001\n",
      "FRENSIE/packages/monte_carlo/collision/photon/src/MonteCarlo_AdjointPhotoatomicReactionNativeFactory.cpp 0.13441666666666666\n",
      "FRENSIE/packages/monte_carlo/collision/photon/src/MonteCarlo_PhotoatomicReactionNativeFactory.cpp 0.13271666666666668\n",
      "FRENSIE/packages/utility/distribution/src/Utility_TabularCDFDistribution.cpp 0.13208333333333333\n",
      "FRENSIE/packages/data/native/src/Data_ElectronPhotonRelaxationDataContainer.cpp 0.13151666666666667\n",
      "FRENSIE/packages/monte_carlo/active_region/core/src/MonteCarlo_ImportanceSampledIndependentPhaseSpaceDimensionDistribution.cpp 0.131\n",
      "FRENSIE/packages/monte_carlo/event/particle_tracker/src/MonteCarlo_ParticleTracker.cpp 0.13041666666666668\n",
      "FRENSIE/packages/monte_carlo/collision/kernel/src/MonteCarlo_CollisionKernel.cpp 0.1277\n",
      "FRENSIE/packages/monte_carlo/collision/electron/src/MonteCarlo_AdjointElectroatomFactory.cpp 0.12676666666666667\n",
      "FRENSIE/packages/monte_carlo/collision/kernel/src/MonteCarlo_TransportKernel.cpp 0.12383333333333332\n",
      "FRENSIE/packages/monte_carlo/active_region/response/src/MonteCarlo_SinglePhaseSpaceDimensionParticleResponseFunction.cpp 0.12331666666666667\n",
      "FRENSIE/packages/monte_carlo/collision/photon/src/MonteCarlo_StandardCompleteDopplerBroadenedPhotonEnergyDistribution.cpp 0.12128333333333334\n",
      "FRENSIE/packages/monte_carlo/active_region/core/src/MonteCarlo_StandardParticleDistribution.cpp 0.12083333333333333\n",
      "FRENSIE/packages/monte_carlo/event/estimator/src/MonteCarlo_Estimator.cpp 0.1208\n",
      "FRENSIE/packages/data/endl/src/Data_ENDLDataContainer.cpp 0.12050000000000001\n",
      "FRENSIE/packages/monte_carlo/collision/core/src/MonteCarlo_ScatteringCenterDefinition.cpp 0.1203\n",
      "FRENSIE/packages/monte_carlo/collision/photon/src/MonteCarlo_IncoherentPhotonScatteringDistributionNativeFactory.cpp 0.11956666666666667\n",
      "FRENSIE/packages/monte_carlo/event/estimator/src/MonteCarlo_EntityEstimator.cpp 0.1188\n",
      "FRENSIE/packages/monte_carlo/event/forced_collisions/src/MonteCarlo_CollisionForcer.cpp 0.11783333333333333\n",
      "FRENSIE/packages/monte_carlo/active_region/core/src/MonteCarlo_IndependentPhaseSpaceDimensionDistribution.cpp 0.11546666666666666\n",
      "FRENSIE/packages/monte_carlo/collision/photon/src/MonteCarlo_DecoupledStandardCompleteDopplerBroadenedPhotonEnergyDistribution.cpp 0.11418333333333333\n",
      "FRENSIE/packages/utility/mesh/src/Utility_TetMesh.cpp 0.10981666666666667\n",
      "FRENSIE/packages/monte_carlo/collision/electron/src/MonteCarlo_CoupledElasticDistribution.cpp 0.10919999999999999\n",
      "FRENSIE/packages/utility/distribution/src/Utility_TabularDistribution.cpp 0.1084\n",
      "FRENSIE/packages/monte_carlo/collision/electron/src/MonteCarlo_HybridElasticDistribution.cpp 0.10613333333333334\n",
      "FRENSIE/packages/monte_carlo/collision/photon/src/MonteCarlo_CoupledStandardCompleteDopplerBroadenedPhotonEnergyDistribution.cpp 0.10565000000000001\n",
      "FRENSIE/packages/monte_carlo/collision/electron/src/MonteCarlo_ElectroatomicReactionNativeFactoryHelpers.cpp 0.10556666666666666\n",
      "FRENSIE/packages/monte_carlo/collision/electron/src/MonteCarlo_AdjointElectroatomicReactionNativeFactory.cpp 0.10535\n",
      "FRENSIE/packages/monte_carlo/collision/kernel/src/MonteCarlo_FilledAdjointPhotonGeometryModel.cpp 0.10461666666666666\n",
      "FRENSIE/packages/monte_carlo/collision/electron/src/MonteCarlo_AdjointElectroatomicReactionNativeFactoryHelpers.cpp 0.10451666666666666\n",
      "FRENSIE/packages/monte_carlo/event/estimator/src/MonteCarlo_StandardEntityEstimator.cpp 0.10416666666666667\n",
      "FRENSIE/packages/monte_carlo/collision/electron/src/MonteCarlo_ElectroatomicReactionNativeFactory.cpp 0.10378333333333334\n",
      "FRENSIE/packages/monte_carlo/active_region/source/src/MonteCarlo_StandardParticleSource.cpp 0.10366666666666666\n",
      "FRENSIE/packages/monte_carlo/collision/electron/src/MonteCarlo_PositronatomicReactionNativeFactory.cpp 0.10331666666666667\n",
      "FRENSIE/packages/monte_carlo/collision/kernel/src/MonteCarlo_AdjointPhotonCollisionKernel.cpp 0.10313333333333333\n",
      "FRENSIE/packages/monte_carlo/collision/electron/src/MonteCarlo_ElasticElectronScatteringDistributionNativeFactory.cpp 0.10311666666666668\n",
      "FRENSIE/packages/monte_carlo/collision/photon/src/MonteCarlo_SubshellIncoherentPhotonScatteringDistribution.cpp 0.10305\n",
      "FRENSIE/packages/monte_carlo/collision/photon/src/MonteCarlo_SubshellIncoherentAdjointPhotonScatteringDistribution.cpp 0.1029\n",
      "FRENSIE/packages/monte_carlo/collision/photon/src/MonteCarlo_WHIncoherentAdjointPhotonScatteringDistribution.cpp 0.10213333333333334\n",
      "FRENSIE/packages/monte_carlo/event/core/src/MonteCarlo_DetailedObserverPhaseSpaceDiscretizationImpl.cpp 0.10191666666666667\n",
      "FRENSIE/packages/monte_carlo/collision/electron/src/MonteCarlo_ElectronScatteringDistributionNativeFactoryHelpers.cpp 0.10093333333333333\n",
      "FRENSIE/packages/monte_carlo/collision/photon/src/MonteCarlo_AdjointPhotoatomFactory.cpp 0.10083333333333333\n",
      "FRENSIE/packages/monte_carlo/collision/electron/src/MonteCarlo_AdjointElectronScatteringDistributionNativeFactoryHelpers.cpp 0.09965\n",
      "FRENSIE/packages/monte_carlo/event/estimator/src/MonteCarlo_MeshTrackLengthFluxEstimator.cpp 0.09935000000000001\n",
      "FRENSIE/packages/monte_carlo/collision/photon/src/MonteCarlo_PhotoatomFactory.cpp 0.09871666666666666\n",
      "FRENSIE/packages/monte_carlo/collision/photon/src/MonteCarlo_IncoherentPhotonScatteringDistributionACEFactory.cpp 0.09858333333333333\n",
      "FRENSIE/packages/monte_carlo/collision/photon/src/MonteCarlo_CoherentScatteringDistributionACEFactory.cpp 0.09838333333333332\n",
      "FRENSIE/packages/monte_carlo/collision/kernel/src/MonteCarlo_FilledAdjointElectronGeometryModel.cpp 0.09726666666666667\n",
      "FRENSIE/packages/utility/distribution/src/Utility_TabularBasicBivariateDistribution.cpp 0.09665\n",
      "FRENSIE/packages/monte_carlo/event/core/src/MonteCarlo_DefaultTypedObserverPhaseSpaceDimensionDiscretization.cpp 0.09655\n",
      "FRENSIE/packages/monte_carlo/active_region/source/src/MonteCarlo_StandardParticleSourceComponent.cpp 0.09634999999999999\n",
      "FRENSIE/packages/monte_carlo/collision/photon/src/MonteCarlo_CoherentScatteringDistribution.cpp 0.09620000000000001\n",
      "FRENSIE/packages/monte_carlo/collision/kernel/src/MonteCarlo_AdjointElectronCollisionKernel.cpp 0.09611666666666667\n",
      "FRENSIE/packages/monte_carlo/collision/neutron/src/MonteCarlo_NeutronNuclearReactionACEFactory.cpp 0.0957\n",
      "FRENSIE/packages/monte_carlo/event/core/src/MonteCarlo_OrderedTypedObserverPhaseSpaceDimensionDiscretization.cpp 0.0955\n",
      "FRENSIE/packages/monte_carlo/collision/photon/src/MonteCarlo_AdjointPhotoatomNativeFactory.cpp 0.0953\n",
      "FRENSIE/packages/monte_carlo/collision/electron/src/MonteCarlo_PositronatomicReactionACEFactory.cpp 0.09498333333333334\n",
      "FRENSIE/packages/monte_carlo/collision/kernel/src/MonteCarlo_PhotonCollisionKernel.cpp 0.09446666666666667\n",
      "FRENSIE/packages/monte_carlo/collision/kernel/src/MonteCarlo_FilledPositronGeometryModel.cpp 0.09433333333333334\n",
      "FRENSIE/packages/monte_carlo/collision/kernel/src/MonteCarlo_PositronCollisionKernel.cpp 0.09430000000000001\n",
      "FRENSIE/packages/monte_carlo/collision/neutron/src/MonteCarlo_NuclideFactory.cpp 0.0942\n",
      "FRENSIE/packages/monte_carlo/collision/kernel/src/MonteCarlo_FilledPhotonGeometryModel.cpp 0.09388333333333333\n",
      "FRENSIE/packages/monte_carlo/collision/kernel/src/MonteCarlo_ElectronCollisionKernel.cpp 0.09375\n",
      "FRENSIE/packages/monte_carlo/collision/kernel/src/MonteCarlo_FilledElectronGeometryModel.cpp 0.09351666666666666\n",
      "FRENSIE/packages/monte_carlo/collision/electron/src/MonteCarlo_ElectroatomicReactionACEFactory.cpp 0.09326666666666666\n",
      "FRENSIE/packages/monte_carlo/collision/electron/src/MonteCarlo_ElectroionizationSubshellElectronScatteringDistribution.cpp 0.09321666666666667\n",
      "FRENSIE/packages/monte_carlo/collision/photon/src/MonteCarlo_StandardSubshellDopplerBroadenedPhotonEnergyDistribution.cpp 0.09261666666666667\n",
      "FRENSIE/packages/utility/distribution/src/Utility_DiscreteDistribution.cpp 0.0924\n",
      "FRENSIE/packages/monte_carlo/event/estimator/src/MonteCarlo_CellPulseHeightEstimator.cpp 0.09233333333333334\n",
      "FRENSIE/packages/utility/distribution/src/Utility_PolynomialDistribution.cpp 0.09226666666666666\n",
      "FRENSIE/packages/utility/distribution/src/Utility_HistogramDistribution.cpp 0.09216666666666667\n"
     ]
    }
   ],
   "source": [
    "for i in range(100):\n",
    "    print(data[\"File\"][i], data[\"Time\"][i]/1000/60.)"
   ]
  },
  {
   "cell_type": "code",
   "execution_count": 31,
   "metadata": {},
   "outputs": [
    {
     "data": {
      "text/plain": [
       "42.33643333333334"
      ]
     },
     "execution_count": 31,
     "metadata": {},
     "output_type": "execute_result"
    }
   ],
   "source": [
    "data['Time'].sum()/1000/60."
   ]
  },
  {
   "cell_type": "code",
   "execution_count": 33,
   "metadata": {},
   "outputs": [],
   "source": [
    "data_test = data[data[\"File\"].str.contains(\"tst\")]"
   ]
  },
  {
   "cell_type": "code",
   "execution_count": 34,
   "metadata": {},
   "outputs": [
    {
     "data": {
      "text/plain": [
       "0.0"
      ]
     },
     "execution_count": 34,
     "metadata": {},
     "output_type": "execute_result"
    }
   ],
   "source": [
    "data_test[\"Time\"].sum()/data['Time'].sum()"
   ]
  },
  {
   "cell_type": "code",
   "execution_count": 35,
   "metadata": {},
   "outputs": [
    {
     "data": {
      "text/plain": [
       "9.121583333333332"
      ]
     },
     "execution_count": 35,
     "metadata": {},
     "output_type": "execute_result"
    }
   ],
   "source": [
    "547295/1000/60."
   ]
  },
  {
   "cell_type": "code",
   "execution_count": 26,
   "metadata": {},
   "outputs": [
    {
     "data": {
      "text/plain": [
       "4.482233333333334"
      ]
     },
     "execution_count": 26,
     "metadata": {},
     "output_type": "execute_result"
    }
   ],
   "source": [
    "268934/1000/60"
   ]
  },
  {
   "cell_type": "code",
   "execution_count": 27,
   "metadata": {},
   "outputs": [
    {
     "data": {
      "text/plain": [
       "4.11735"
      ]
     },
     "execution_count": 27,
     "metadata": {},
     "output_type": "execute_result"
    }
   ],
   "source": [
    "247041/1000/60."
   ]
  },
  {
   "cell_type": "code",
   "execution_count": null,
   "metadata": {},
   "outputs": [],
   "source": []
  },
  {
   "cell_type": "code",
   "execution_count": 28,
   "metadata": {},
   "outputs": [
    {
     "data": {
      "text/plain": [
       "5.549143660531698"
      ]
     },
     "execution_count": 28,
     "metadata": {},
     "output_type": "execute_result"
    }
   ],
   "source": [
    "(173666/31296)"
   ]
  },
  {
   "cell_type": "code",
   "execution_count": 29,
   "metadata": {},
   "outputs": [
    {
     "data": {
      "text/plain": [
       "2.7001833333333334"
      ]
     },
     "execution_count": 29,
     "metadata": {},
     "output_type": "execute_result"
    }
   ],
   "source": [
    "162011/1000/60."
   ]
  },
  {
   "cell_type": "code",
   "execution_count": 30,
   "metadata": {},
   "outputs": [
    {
     "data": {
      "text/plain": [
       "5.1125967784996"
      ]
     },
     "execution_count": 30,
     "metadata": {},
     "output_type": "execute_result"
    }
   ],
   "source": [
    "229801/44948"
   ]
  },
  {
   "cell_type": "code",
   "execution_count": null,
   "metadata": {},
   "outputs": [],
   "source": []
  }
 ],
 "metadata": {
  "kernelspec": {
   "display_name": "Python 3.6.9 64-bit",
   "language": "python",
   "name": "python36964bit630dd4fcbb9645d6bc3fe6dc1658d870"
  },
  "language_info": {
   "codemirror_mode": {
    "name": "ipython",
    "version": 3
   },
   "file_extension": ".py",
   "mimetype": "text/x-python",
   "name": "python",
   "nbconvert_exporter": "python",
   "pygments_lexer": "ipython3",
   "version": "3.6.9"
  }
 },
 "nbformat": 4,
 "nbformat_minor": 4
}
