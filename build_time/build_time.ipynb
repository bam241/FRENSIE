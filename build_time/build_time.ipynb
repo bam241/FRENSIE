{
 "cells": [
  {
   "cell_type": "code",
   "execution_count": 19,
   "metadata": {},
   "outputs": [],
   "source": [
    "import pandas as pd"
   ]
  },
  {
   "cell_type": "code",
   "execution_count": 20,
   "metadata": {},
   "outputs": [],
   "source": [
    "data = pd.read_csv(\"build_item\")"
   ]
  },
  {
   "cell_type": "code",
   "execution_count": 21,
   "metadata": {},
   "outputs": [
    {
     "output_type": "execute_result",
     "data": {
      "text/plain": "                                                   File     Time Unit\n0     packages/PyFrensie/src/PyFrensie_NumpyImporter...      134   ms\n1            packages/utility/core/src/Utility_Axis.cpp     2839   ms\n2     packages/utility/core/src/Utility_ComparisonTr...     3136   ms\n3     packages/utility/core/src/Utility_DynamicOutpu...     3138   ms\n4     packages/utility/core/src/Utility_DynamicOutpu...      638   ms\n...                                                 ...      ...  ...\n1131  bld/packages/PyFrensie/src/MonteCarlo.Electron...    31109   ms\n1132  bld/packages/PyFrensie/src/MonteCarlo.Geometry...    13501   ms\n1133  bld/packages/PyFrensie/src/MonteCarlo.ActiveRe...    51634   ms\n1134  packages/monte_carlo/collision/neutron/test/ts...  1398982   ms\n1135  packages/monte_carlo/collision/photon/test/tst...  1288032   ms\n\n[1136 rows x 3 columns]",
      "text/html": "<div>\n<style scoped>\n    .dataframe tbody tr th:only-of-type {\n        vertical-align: middle;\n    }\n\n    .dataframe tbody tr th {\n        vertical-align: top;\n    }\n\n    .dataframe thead th {\n        text-align: right;\n    }\n</style>\n<table border=\"1\" class=\"dataframe\">\n  <thead>\n    <tr style=\"text-align: right;\">\n      <th></th>\n      <th>File</th>\n      <th>Time</th>\n      <th>Unit</th>\n    </tr>\n  </thead>\n  <tbody>\n    <tr>\n      <th>0</th>\n      <td>packages/PyFrensie/src/PyFrensie_NumpyImporter...</td>\n      <td>134</td>\n      <td>ms</td>\n    </tr>\n    <tr>\n      <th>1</th>\n      <td>packages/utility/core/src/Utility_Axis.cpp</td>\n      <td>2839</td>\n      <td>ms</td>\n    </tr>\n    <tr>\n      <th>2</th>\n      <td>packages/utility/core/src/Utility_ComparisonTr...</td>\n      <td>3136</td>\n      <td>ms</td>\n    </tr>\n    <tr>\n      <th>3</th>\n      <td>packages/utility/core/src/Utility_DynamicOutpu...</td>\n      <td>3138</td>\n      <td>ms</td>\n    </tr>\n    <tr>\n      <th>4</th>\n      <td>packages/utility/core/src/Utility_DynamicOutpu...</td>\n      <td>638</td>\n      <td>ms</td>\n    </tr>\n    <tr>\n      <th>...</th>\n      <td>...</td>\n      <td>...</td>\n      <td>...</td>\n    </tr>\n    <tr>\n      <th>1131</th>\n      <td>bld/packages/PyFrensie/src/MonteCarlo.Electron...</td>\n      <td>31109</td>\n      <td>ms</td>\n    </tr>\n    <tr>\n      <th>1132</th>\n      <td>bld/packages/PyFrensie/src/MonteCarlo.Geometry...</td>\n      <td>13501</td>\n      <td>ms</td>\n    </tr>\n    <tr>\n      <th>1133</th>\n      <td>bld/packages/PyFrensie/src/MonteCarlo.ActiveRe...</td>\n      <td>51634</td>\n      <td>ms</td>\n    </tr>\n    <tr>\n      <th>1134</th>\n      <td>packages/monte_carlo/collision/neutron/test/ts...</td>\n      <td>1398982</td>\n      <td>ms</td>\n    </tr>\n    <tr>\n      <th>1135</th>\n      <td>packages/monte_carlo/collision/photon/test/tst...</td>\n      <td>1288032</td>\n      <td>ms</td>\n    </tr>\n  </tbody>\n</table>\n<p>1136 rows × 3 columns</p>\n</div>"
     },
     "metadata": {},
     "execution_count": 21
    }
   ],
   "source": [
    "data"
   ]
  },
  {
   "cell_type": "code",
   "execution_count": 30,
   "metadata": {},
   "outputs": [
    {
     "output_type": "execute_result",
     "data": {
      "text/plain": "0.39243484976033455"
     },
     "metadata": {},
     "execution_count": 30
    }
   ],
   "source": [
    "data['Time'].head(300).sum()/data['Time'].sum()"
   ]
  },
  {
   "cell_type": "code",
   "execution_count": 31,
   "metadata": {},
   "outputs": [
    {
     "output_type": "execute_result",
     "data": {
      "text/plain": "0.14654644788219967"
     },
     "metadata": {},
     "execution_count": 31
    }
   ],
   "source": [
    "data['Time'].head(600).tail(300).sum()/data['Time'].sum()"
   ]
  },
  {
   "cell_type": "code",
   "execution_count": 32,
   "metadata": {},
   "outputs": [
    {
     "output_type": "execute_result",
     "data": {
      "text/plain": "0.15510496782015232"
     },
     "metadata": {},
     "execution_count": 32
    }
   ],
   "source": [
    "data['Time'].tail(600).head(300).sum()/data['Time'].sum()"
   ]
  },
  {
   "cell_type": "code",
   "execution_count": 33,
   "metadata": {},
   "outputs": [
    {
     "output_type": "execute_result",
     "data": {
      "text/plain": "0.33215537491837166"
     },
     "metadata": {},
     "execution_count": 33
    }
   ],
   "source": [
    "data['Time'].tail(300).sum()/data['Time'].sum()"
   ]
  },
  {
   "cell_type": "code",
   "execution_count": 13,
   "metadata": {},
   "outputs": [
    {
     "output_type": "execute_result",
     "data": {
      "text/plain": "                                                   File     Time Unit\n1134  packages/monte_carlo/collision/neutron/test/ts...  1398982   ms\n1135  packages/monte_carlo/collision/photon/test/tst...  1288032   ms\n337   packages/utility/mpi/test/tstCommunicatorGathe...   645327   ms\n258   packages/utility/mpi/test/tstCommunicatorScatt...   558337   ms\n220   packages/utility/core/test/tstComparisonTraits...   547295   ms\n...                                                 ...      ...  ...\n0     packages/PyFrensie/src/PyFrensie_NumpyImporter...      134   ms\n19    packages/utility/core/src/Utility_TextFormatPo...      130   ms\n160   packages/geometry/core/src/Geometry_EstimatorT...       23   ms\n361       packages/data/ace/src/Data_SabElasticMode.cpp       18   ms\n14    packages/utility/core/src/Utility_RawPhysicalC...       13   ms\n\n[1136 rows x 3 columns]",
      "text/html": "<div>\n<style scoped>\n    .dataframe tbody tr th:only-of-type {\n        vertical-align: middle;\n    }\n\n    .dataframe tbody tr th {\n        vertical-align: top;\n    }\n\n    .dataframe thead th {\n        text-align: right;\n    }\n</style>\n<table border=\"1\" class=\"dataframe\">\n  <thead>\n    <tr style=\"text-align: right;\">\n      <th></th>\n      <th>File</th>\n      <th>Time</th>\n      <th>Unit</th>\n    </tr>\n  </thead>\n  <tbody>\n    <tr>\n      <th>1134</th>\n      <td>packages/monte_carlo/collision/neutron/test/ts...</td>\n      <td>1398982</td>\n      <td>ms</td>\n    </tr>\n    <tr>\n      <th>1135</th>\n      <td>packages/monte_carlo/collision/photon/test/tst...</td>\n      <td>1288032</td>\n      <td>ms</td>\n    </tr>\n    <tr>\n      <th>337</th>\n      <td>packages/utility/mpi/test/tstCommunicatorGathe...</td>\n      <td>645327</td>\n      <td>ms</td>\n    </tr>\n    <tr>\n      <th>258</th>\n      <td>packages/utility/mpi/test/tstCommunicatorScatt...</td>\n      <td>558337</td>\n      <td>ms</td>\n    </tr>\n    <tr>\n      <th>220</th>\n      <td>packages/utility/core/test/tstComparisonTraits...</td>\n      <td>547295</td>\n      <td>ms</td>\n    </tr>\n    <tr>\n      <th>...</th>\n      <td>...</td>\n      <td>...</td>\n      <td>...</td>\n    </tr>\n    <tr>\n      <th>0</th>\n      <td>packages/PyFrensie/src/PyFrensie_NumpyImporter...</td>\n      <td>134</td>\n      <td>ms</td>\n    </tr>\n    <tr>\n      <th>19</th>\n      <td>packages/utility/core/src/Utility_TextFormatPo...</td>\n      <td>130</td>\n      <td>ms</td>\n    </tr>\n    <tr>\n      <th>160</th>\n      <td>packages/geometry/core/src/Geometry_EstimatorT...</td>\n      <td>23</td>\n      <td>ms</td>\n    </tr>\n    <tr>\n      <th>361</th>\n      <td>packages/data/ace/src/Data_SabElasticMode.cpp</td>\n      <td>18</td>\n      <td>ms</td>\n    </tr>\n    <tr>\n      <th>14</th>\n      <td>packages/utility/core/src/Utility_RawPhysicalC...</td>\n      <td>13</td>\n      <td>ms</td>\n    </tr>\n  </tbody>\n</table>\n<p>1136 rows × 3 columns</p>\n</div>"
     },
     "metadata": {},
     "execution_count": 13
    }
   ],
   "source": [
    "data.sort_values(by=\"Time\", inplace=True, ascending=False)"
   ]
  },
  {
   "cell_type": "code",
   "execution_count": 6,
   "metadata": {
    "tags": []
   },
   "outputs": [
    {
     "output_type": "stream",
     "name": "stdout",
     "text": "0 packages/PyFrensie/src/PyFrensie_NumpyImporter.cpp\n1 packages/utility/core/src/Utility_Axis.cpp\n2 packages/utility/core/src/Utility_ComparisonTraitsHelpers.cpp\n3 packages/utility/core/src/Utility_DynamicOutputFormatter.cpp\n4 packages/utility/core/src/Utility_DynamicOutputFormatterFactory.cpp\n5 packages/utility/core/src/Utility_DirectionalDimensionType.cpp\n6 packages/utility/core/src/Utility_3DCartesianVectorHelpers.cpp\n7 packages/utility/core/src/Utility_DataUnitTest.cpp\n8 packages/utility/core/src/Utility_DataProcessor.cpp\n9 packages/PyFrensie/src/PyFrensie_PythonTypeTraits.cpp\n10 packages/utility/core/src/Utility_FancyTextOStreamBackend.cpp\n11 packages/utility/core/src/Utility_OutputFormatter.cpp\n12 packages/utility/core/src/Utility_PhysicalConstants.cpp\n13 packages/utility/core/src/Utility_OpenMPProperties.cpp\n14 packages/utility/core/src/Utility_RawPhysicalConstants.cpp\n15 packages/utility/core/src/Utility_FromStringTraits.cpp\n16 packages/utility/core/src/Utility_LogRecordType.cpp\n17 packages/utility/core/src/Utility_HDF5TypeTraits.cpp\n18 packages/utility/core/src/Utility_TextBackgroundColorPolicy.cpp\n19 packages/utility/core/src/Utility_TextFormatPolicy.cpp\n20 packages/utility/core/src/Utility_TextColorPolicy.cpp\n21 packages/utility/core/src/Utility_GlobalMPISession.cpp\n22 packages/utility/core/src/Utility_HDF5File.cpp\n23 packages/utility/core/src/Utility_Timer.cpp\n24 packages/utility/core/src/Utility_ToStringTraits.cpp\n25 packages/utility/core/src/Utility_UnitTestHelpers.cpp\n26 packages/utility/core/src/Utility_LoggingHelper.cpp\n27 packages/utility/core/src/Utility_SpatialDimensionType.cpp\n28 packages/utility/core/src/Utility_PropertyTree.cpp\n29 packages/utility/core/src/Utility_UnitTest.cpp\n30 packages/utility/core/src/Utility_UnitTestDataTable.cpp\n31 packages/utility/core/src/Utility_Variant.cpp\n32 packages/utility/core/src/Utility_UnitTestManager.cpp\n33 packages/utility/archive/src/Utility_HDF5ArchiveException.cpp\n34 packages/utility/core/test/tstLogRecordType.cpp\n35 packages/utility/core/test/tstStaticOutputFormatterFactory.cpp\n36 packages/utility/core/test/tstInverseAngstromUnit.cpp\n37 packages/utility/archive/src/Utility_HDF5CommonArchive.cpp\n38 packages/utility/core/test/tstGlobalMPISessionInit.cpp\n39 packages/utility/core/test/tstInverseCentimeterUnit.cpp\n40 packages/utility/core/test/tstExceptionCatchMacros.cpp\n41 packages/utility/archive/src/Utility_JustInTimeInitializer.cpp\n42 packages/utility/archive/src/Utility_HDF5IArchive.cpp\n43 packages/utility/archive/src/Utility_PolymorphicArchive.cpp\n44 packages/utility/core/test/tstShakeUnit.cpp\n45 packages/utility/core/test/tst3DCartesianVectorHelpers.cpp\n46 packages/utility/archive/src/Utility_HDF5OArchive.cpp\n47 packages/utility/archive/src/Utility_PolymorphicHDF5IArchive.cpp\n48 packages/utility/archive/src/Utility_PolymorphicHDF5OArchive.cpp\n49 packages/utility/core/test/tstUnitTraits.cpp\n50 packages/utility/core/test/tstInverseAreaConversion.cpp\n51 packages/utility/core/test/tstBarnUnit.cpp\n52 packages/utility/core/test/tstFortranFileHelpers.cpp\n53 packages/utility/core/test/tstInverseLengthConversion.cpp\n54 packages/utility/core/test/tstAtomUnit.cpp\n55 packages/utility/core/test/tstInverseAtomicMomentumUnit.cpp\n56 packages/utility/core/test/tstAtomicMomentumUnit.cpp\n57 packages/utility/core/test/tstElectronVoltUnit.cpp\n58 packages/utility/core/test/tstAngstromUnit.cpp\n59 packages/utility/core/test/tstTypeTraits.cpp\n60 packages/utility/core/test/tstGlobalMPISession.cpp\n61 packages/utility/core/test/tstInverseSquareCentimeterUnit.cpp\n62 packages/utility/core/test/tstMomentumConversion.cpp\n63 packages/utility/core/test/tstToStringTraits.cpp\n64 packages/utility/core/test/tstMeCMomentumUnit.cpp\n65 packages/utility/core/test/tstFortranStringHelpers.cpp\n66 packages/utility/core/test/tstDataUnitTestWrapper.cpp\n67 packages/utility/core/test/tstAtomicMassUnit.cpp\n68 packages/utility/core/test/tstInverseSquareAngstromUnit.cpp\n69 packages/utility/core/test/tstInverseMeCMomentumUnit.cpp\n70 packages/utility/core/test/tstTypeNameTraits.cpp\n71 packages/utility/core/test/tstUnitTest.cpp\n72 packages/utility/core/test/tstIteratorTypeTraits.cpp\n73 packages/utility/core/test/tstExponentiationAlgorithmscpp\n74 packages/utility/core/test/tstFromStringTraits.cpp\n75 packages/utility/core/test/tstSet.cpp\n76 packages/utility/core/test/tstFRENSIEUnitTestHarnessCustomInit.cpp\n77 packages/utility/core/test/tstDynamicOutputFormatterFactory.cpp\n78 packages/utility/core/test/tstArray.cpp\n79 packages/utility/core/test/tstComparisonPolicy.cpp\n80 packages/utility/core/test/tstVector.cpp\n81 packages/utility/core/test/tstDesignByContract.cpp\n82 packages/utility/core/test/tstArrayView.cpp\n83 packages/utility/core/test/tstVariant.cpp\n84 packages/utility/core/test/tstDeque.cpp\n85 packages/utility/core/test/tstStandardTimer.cpp\n86 packages/utility/core/test/tstOpenMPProperties.cpp\n87 packages/utility/core/test/tstLoggingMacros.cpp\n88 packages/utility/core/test/tstMap.cpp\n89 packages/utility/core/test/tstDynamicOutputFormatter.cpp\n90 packages/utility/core/test/tstUnitTestDataTable.cpp\n91 packages/utility/core/test/tstDataProcessor.cpp\n92 packages/utility/core/test/tstDataUnitTest.cpp\n93 packages/utility/core/test/tstTemplateUnitTest.cpp\n94 packages/utility/core/test/tstList.cpp\n95 packages/utility/core/test/tstTemplateUnitTestWrapper.cpp\n96 packages/utility/core/test/tstStaticOutputFormatter.cpp\n97 packages/utility/core/test/tstSortAlgorithmscpp\n98 packages/utility/core/test/tstSetOperationFunctor.cpp\n99 packages/utility/core/test/tstHDF5File.cpp\n"
    }
   ],
   "source": [
    "for i in range(100):\n",
    "    print(i, data[\"File\"][i])"
   ]
  },
  {
   "cell_type": "code",
   "execution_count": 11,
   "metadata": {},
   "outputs": [
    {
     "output_type": "execute_result",
     "data": {
      "text/plain": "2.7963919444444447"
     },
     "metadata": {},
     "execution_count": 11
    }
   ],
   "source": [
    "data.head(50)['Time'].sum()/1000/60./60."
   ]
  },
  {
   "cell_type": "code",
   "execution_count": 12,
   "metadata": {},
   "outputs": [
    {
     "output_type": "execute_result",
     "data": {
      "text/plain": "5.5174713888888895"
     },
     "metadata": {},
     "execution_count": 12
    }
   ],
   "source": [
    "data['Time'].sum()/1000/60./60."
   ]
  },
  {
   "cell_type": "code",
   "execution_count": null,
   "metadata": {},
   "outputs": [],
   "source": []
  }
 ],
 "metadata": {
  "kernelspec": {
   "name": "python36964bit630dd4fcbb9645d6bc3fe6dc1658d870",
   "display_name": "Python 3.6.9 64-bit"
  }
 },
 "nbformat": 4,
 "nbformat_minor": 2
}